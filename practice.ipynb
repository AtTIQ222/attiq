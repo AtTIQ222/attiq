{
  "nbformat": 4,
  "nbformat_minor": 0,
  "metadata": {
    "colab": {
      "provenance": [],
      "authorship_tag": "ABX9TyMSu43vB7p34kt7sMPCvAR4",
      "include_colab_link": true
    },
    "kernelspec": {
      "name": "python3",
      "display_name": "Python 3"
    },
    "language_info": {
      "name": "python"
    }
  },
  "cells": [
    {
      "cell_type": "markdown",
      "metadata": {
        "id": "view-in-github",
        "colab_type": "text"
      },
      "source": [
        "<a href=\"https://colab.research.google.com/github/AtTIQ222/attiq/blob/main/practice.ipynb\" target=\"_parent\"><img src=\"https://colab.research.google.com/assets/colab-badge.svg\" alt=\"Open In Colab\"/></a>"
      ]
    },
    {
      "cell_type": "code",
      "execution_count": 54,
      "metadata": {
        "colab": {
          "base_uri": "https://localhost:8080/"
        },
        "id": "Irf0U_pdhDlA",
        "outputId": "a686ab08-7f8b-485f-d373-217b505732e7"
      },
      "outputs": [
        {
          "output_type": "execute_result",
          "data": {
            "text/plain": [
              "4.0"
            ]
          },
          "metadata": {},
          "execution_count": 54
        }
      ],
      "source": [
        "2*4/2"
      ]
    },
    {
      "cell_type": "markdown",
      "source": [
        "**List**\n",
        "\n",
        "---\n",
        "\n",
        "## strining Sliciing \n"
      ],
      "metadata": {
        "id": "a2I-V7wyl1Is"
      }
    },
    {
      "cell_type": "code",
      "source": [
        "L = [1,2,3,'Pakistan',True]\n",
        "L"
      ],
      "metadata": {
        "colab": {
          "base_uri": "https://localhost:8080/"
        },
        "id": "mm4hgXi5TYld",
        "outputId": "ef349787-66e3-481d-8233-bc6242200908"
      },
      "execution_count": 12,
      "outputs": [
        {
          "output_type": "execute_result",
          "data": {
            "text/plain": [
              "[1, 2, 3, 'Pakistan', True]"
            ]
          },
          "metadata": {},
          "execution_count": 12
        }
      ]
    },
    {
      "cell_type": "code",
      "source": [
        "list = ['pak',12.5,'Ali',23,21,32,45]\n",
        "list"
      ],
      "metadata": {
        "colab": {
          "base_uri": "https://localhost:8080/"
        },
        "id": "cO0LBQSqa2kK",
        "outputId": "8cf631f4-db94-4e72-b799-59799050d353"
      },
      "execution_count": 18,
      "outputs": [
        {
          "output_type": "execute_result",
          "data": {
            "text/plain": [
              "['pak', 12.5, 'Ali', 23, 21, 32, 45]"
            ]
          },
          "metadata": {},
          "execution_count": 18
        }
      ]
    },
    {
      "cell_type": "code",
      "source": [
        "list[4],list[3],list[2]"
      ],
      "metadata": {
        "colab": {
          "base_uri": "https://localhost:8080/"
        },
        "id": "FptPMtXabvDv",
        "outputId": "45806ff9-5322-440c-b617-32af6049afcb"
      },
      "execution_count": 17,
      "outputs": [
        {
          "output_type": "execute_result",
          "data": {
            "text/plain": [
              "(21, 23, 'Ali')"
            ]
          },
          "metadata": {},
          "execution_count": 17
        }
      ]
    },
    {
      "cell_type": "code",
      "source": [
        "list[0:3]"
      ],
      "metadata": {
        "colab": {
          "base_uri": "https://localhost:8080/"
        },
        "id": "hogKnTqYcFYR",
        "outputId": "ec9fbd7e-3db4-4dbc-98c0-38164bd9adea"
      },
      "execution_count": 21,
      "outputs": [
        {
          "output_type": "execute_result",
          "data": {
            "text/plain": [
              "['pak', 12.5, 'Ali']"
            ]
          },
          "metadata": {},
          "execution_count": 21
        }
      ]
    },
    {
      "cell_type": "code",
      "source": [
        "list[::3]"
      ],
      "metadata": {
        "colab": {
          "base_uri": "https://localhost:8080/"
        },
        "id": "ll69UfzSdw_n",
        "outputId": "588a1905-e553-4df3-dd14-8fb2478018cc"
      },
      "execution_count": 24,
      "outputs": [
        {
          "output_type": "execute_result",
          "data": {
            "text/plain": [
              "['pak', 23, 45]"
            ]
          },
          "metadata": {},
          "execution_count": 24
        }
      ]
    },
    {
      "cell_type": "code",
      "source": [
        "list+L"
      ],
      "metadata": {
        "colab": {
          "base_uri": "https://localhost:8080/"
        },
        "id": "fzsMzDTmeXDs",
        "outputId": "100632b5-5685-40f0-bb0d-a298673658f3"
      },
      "execution_count": 28,
      "outputs": [
        {
          "output_type": "execute_result",
          "data": {
            "text/plain": [
              "['pak', 12.5, 'Ali', 23, 21, 32, 45, 1, 2, 3, 'Pakistan', True]"
            ]
          },
          "metadata": {},
          "execution_count": 28
        }
      ]
    },
    {
      "cell_type": "code",
      "source": [
        "len(list+L)"
      ],
      "metadata": {
        "colab": {
          "base_uri": "https://localhost:8080/"
        },
        "id": "_QKOTGQuev7r",
        "outputId": "ab5f03b4-dd5e-49ab-ea61-d310e807f823"
      },
      "execution_count": 31,
      "outputs": [
        {
          "output_type": "execute_result",
          "data": {
            "text/plain": [
              "12"
            ]
          },
          "metadata": {},
          "execution_count": 31
        }
      ]
    },
    {
      "cell_type": "code",
      "source": [
        "(list+L).append('King')\n",
        "list,L\n"
      ],
      "metadata": {
        "colab": {
          "base_uri": "https://localhost:8080/"
        },
        "id": "GkDrxzdQf-mo",
        "outputId": "fb673429-3b7c-4d70-c0bb-85c0ac9d1ab1"
      },
      "execution_count": 39,
      "outputs": [
        {
          "output_type": "execute_result",
          "data": {
            "text/plain": [
              "(['pak', 12.5, 'Ali', 23, 21, 32, 45, 'King', 'King'],\n",
              " [1, 2, 3, 'Pakistan', True, 'King'])"
            ]
          },
          "metadata": {},
          "execution_count": 39
        }
      ]
    },
    {
      "cell_type": "code",
      "source": [],
      "metadata": {
        "id": "wJGAbk7ZhXEu"
      },
      "execution_count": 52,
      "outputs": []
    },
    {
      "cell_type": "code",
      "source": [
        "list[::10]"
      ],
      "metadata": {
        "colab": {
          "base_uri": "https://localhost:8080/"
        },
        "id": "9Y2xIWmSiMkF",
        "outputId": "4ee2c629-aeaf-432e-b03d-fe1d2a5d683c"
      },
      "execution_count": 53,
      "outputs": [
        {
          "output_type": "execute_result",
          "data": {
            "text/plain": [
              "['pak',\n",
              " [1,\n",
              "  2,\n",
              "  3,\n",
              "  'Pakistan',\n",
              "  True,\n",
              "  'King',\n",
              "  ['pak',\n",
              "   12.5,\n",
              "   'Ali',\n",
              "   23,\n",
              "   21,\n",
              "   32,\n",
              "   45,\n",
              "   'King',\n",
              "   'King',\n",
              "   [...],\n",
              "   [...],\n",
              "   [...],\n",
              "   [...],\n",
              "   [...]],\n",
              "  ['pak',\n",
              "   12.5,\n",
              "   'Ali',\n",
              "   23,\n",
              "   21,\n",
              "   32,\n",
              "   45,\n",
              "   'King',\n",
              "   'King',\n",
              "   [...],\n",
              "   [...],\n",
              "   [...],\n",
              "   [...],\n",
              "   [...]],\n",
              "  ['pak',\n",
              "   12.5,\n",
              "   'Ali',\n",
              "   23,\n",
              "   21,\n",
              "   32,\n",
              "   45,\n",
              "   'King',\n",
              "   'King',\n",
              "   [...],\n",
              "   [...],\n",
              "   [...],\n",
              "   [...],\n",
              "   [...]],\n",
              "  ['pak',\n",
              "   12.5,\n",
              "   'Ali',\n",
              "   23,\n",
              "   21,\n",
              "   32,\n",
              "   45,\n",
              "   'King',\n",
              "   'King',\n",
              "   [...],\n",
              "   [...],\n",
              "   [...],\n",
              "   [...],\n",
              "   [...]]]]"
            ]
          },
          "metadata": {},
          "execution_count": 53
        }
      ]
    }
  ]
}