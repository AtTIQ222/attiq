{
  "nbformat": 4,
  "nbformat_minor": 0,
  "metadata": {
    "colab": {
      "provenance": [],
      "include_colab_link": true
    },
    "kernelspec": {
      "name": "python3",
      "display_name": "Python 3"
    },
    "language_info": {
      "name": "python"
    }
  },
  "cells": [
    {
      "cell_type": "markdown",
      "metadata": {
        "id": "view-in-github",
        "colab_type": "text"
      },
      "source": [
        "<a href=\"https://colab.research.google.com/github/AtTIQ222/attiq/blob/main/String_Exercise_1.ipynb\" target=\"_parent\"><img src=\"https://colab.research.google.com/assets/colab-badge.svg\" alt=\"Open In Colab\"/></a>"
      ]
    },
    {
      "cell_type": "markdown",
      "source": [
        "**Exercise 1: Create a string made of the first, middle and last character**\n",
        "\n",
        "Write a program to create a new string made of an input string’s first, middle, and last character.\n",
        "\n",
        "Given:\n",
        "\n",
        "str1 = James\n",
        "\n",
        "Case 2 = Laptop"
      ],
      "metadata": {
        "id": "PCFy6eJSjBSr"
      }
    },
    {
      "cell_type": "code",
      "execution_count": null,
      "metadata": {
        "id": "Ts6gTxqqivwk",
        "colab": {
          "base_uri": "https://localhost:8080/"
        },
        "outputId": "7042c9bb-988b-44df-9b26-ad845352c555"
      },
      "outputs": [
        {
          "output_type": "stream",
          "name": "stdout",
          "text": [
            "Jms\n"
          ]
        }
      ],
      "source": [
        "def new_string(str1):\n",
        "    f_str = str1[0]\n",
        "    m_str = str1[2]\n",
        "    l_str = str1[-1]\n",
        "    return f_str + m_str + l_str\n",
        "\n",
        "str1 = \"James\"\n",
        "print(new_string(str1))\n"
      ]
    },
    {
      "cell_type": "code",
      "source": [
        "def new_string(str1):\n",
        "    f_str = str1[0]\n",
        "    m_str = str1[2]\n",
        "    sm_str = str1[3]\n",
        "    l_str = str1[-1]\n",
        "    return f_str + m_str + sm_str + l_str\n",
        "\n",
        "str1 = \"Laptop\"\n",
        "print(new_string(str1))"
      ],
      "metadata": {
        "colab": {
          "base_uri": "https://localhost:8080/"
        },
        "id": "fisAPXFAlOLi",
        "outputId": "0d2dd1de-41f1-4dd9-ed84-7a4a3caa8e8b"
      },
      "execution_count": null,
      "outputs": [
        {
          "output_type": "stream",
          "name": "stdout",
          "text": [
            "Lptp\n"
          ]
        }
      ]
    },
    {
      "cell_type": "markdown",
      "source": [
        "**Exercise 2: Create a string made of the middle three characters**\n",
        "\n",
        "Write a program to create a new string made of the middle three characters of an input string.\n",
        "\n",
        "Given:\n",
        "\n",
        "Case 1   \n",
        "str1 = JhonDipPeta\n",
        "\n",
        "Case 2 = Exercise"
      ],
      "metadata": {
        "id": "C_JoLj0q0fPn"
      }
    },
    {
      "cell_type": "code",
      "source": [
        "\n",
        "case2 = \"Exercise\"\n",
        "mid = int(len(case2)/2)\n",
        "case2[mid-2:mid-5]"
      ],
      "metadata": {
        "id": "rD5xtKDC0vzZ",
        "colab": {
          "base_uri": "https://localhost:8080/",
          "height": 35
        },
        "outputId": "e386724f-4eb2-40cf-8154-c3fbff030291"
      },
      "execution_count": null,
      "outputs": [
        {
          "output_type": "execute_result",
          "data": {
            "text/plain": [
              "'ercis'"
            ],
            "application/vnd.google.colaboratory.intrinsic+json": {
              "type": "string"
            }
          },
          "metadata": {},
          "execution_count": 9
        }
      ]
    },
    {
      "cell_type": "markdown",
      "source": [
        "**Exercise 3: Create a new string made of the first, middle, and last characters of each input string**\n",
        "Given two strings, s1 and s2, write a program to return a new string made of s1 and s2’s first, middle, and last characters.\n",
        "\n",
        "Given:\n",
        "\n",
        "s1 = America\n",
        "\n",
        "s2 = Japan"
      ],
      "metadata": {
        "id": "73ej3SzU4xfH"
      }
    },
    {
      "cell_type": "code",
      "source": [
        "def string(s1, s2):\n",
        "   first_string1 = s1[0] \n",
        "   secend_string1 = s1[3] \n",
        "   thrend_string1 = s1[6]\n",
        "   first_string2 = s2[0] \n",
        "   scend_string2 = s2[2] \n",
        "   thrend_string2 = s2[4]\n",
        "   return  first_string1 + secend_string1 + thrend_string1 + first_string2 + scend_string2 + thrend_string2\n",
        "\n",
        "s1 = \"America\"\n",
        "s2 = \"Japan\"\n",
        "\n",
        "print(string(s1, s2))\n"
      ],
      "metadata": {
        "id": "r9Ksoozt43BK",
        "colab": {
          "base_uri": "https://localhost:8080/"
        },
        "outputId": "4d418f1f-3baf-4d9b-da3a-77345609ad66"
      },
      "execution_count": null,
      "outputs": [
        {
          "output_type": "stream",
          "name": "stdout",
          "text": [
            "AraJpn\n"
          ]
        }
      ]
    },
    {
      "cell_type": "markdown",
      "source": [
        "**Exercise 4: Convert String character into uppercase\n",
        "\n",
        "Given:\n",
        "python"
      ],
      "metadata": {
        "id": "WAU9797-8nCc"
      }
    },
    {
      "cell_type": "code",
      "source": [
        "pass\n",
        "py = \"python\"\n",
        "print(py.upper())"
      ],
      "metadata": {
        "id": "RV_OtvWP8tzH",
        "colab": {
          "base_uri": "https://localhost:8080/"
        },
        "outputId": "d9f22f83-da6b-48ae-981b-2c3dd55c343a"
      },
      "execution_count": 9,
      "outputs": [
        {
          "output_type": "stream",
          "name": "stdout",
          "text": [
            "PYTHON\n"
          ]
        }
      ]
    },
    {
      "cell_type": "markdown",
      "source": [
        "**Exercise 5: Convert string into lower case.\n",
        "\n",
        "Given : PYTHON"
      ],
      "metadata": {
        "id": "g43Xiy8vNqYA"
      }
    },
    {
      "cell_type": "code",
      "source": [
        "pass\n",
        "py = \"PYTHON\"\n",
        "print(py.lower())\n",
        "\n"
      ],
      "metadata": {
        "id": "IOaVORIKN1p_",
        "colab": {
          "base_uri": "https://localhost:8080/"
        },
        "outputId": "7cfd0d53-8439-4997-886e-e92d4f9d7d3c"
      },
      "execution_count": null,
      "outputs": [
        {
          "output_type": "stream",
          "name": "stdout",
          "text": [
            "python\n"
          ]
        }
      ]
    },
    {
      "cell_type": "markdown",
      "source": [
        "#**Exercise 6: Count number of \"S\" in the string.**\n",
        "\n",
        "Given: She Sells sea shells by the sea shores."
      ],
      "metadata": {
        "id": "yCAMF2PvSK4R"
      }
    },
    {
      "cell_type": "code",
      "source": [
        "pass\n",
        "s1 = \"She Sells sea shells by the sea shores.\"\n",
        "s2 = s1.upper()\n",
        "print(s2.count(\"S\"))"
      ],
      "metadata": {
        "id": "oH-4cC5lSgxW",
        "colab": {
          "base_uri": "https://localhost:8080/"
        },
        "outputId": "ce768339-cd78-4a0a-b3e9-338317e8eda9"
      },
      "execution_count": null,
      "outputs": [
        {
          "output_type": "stream",
          "name": "stdout",
          "text": [
            "9\n"
          ]
        }
      ]
    },
    {
      "cell_type": "markdown",
      "source": [
        "# **Exercise 7: Join two strings**\n",
        "\n",
        "\n",
        "\n",
        "**Given:**\n",
        "\n",
        "Case 1:\n",
        "\n",
        "s1 = \"Yn\"\n",
        "s2 = \"PYnative\"\n",
        "\n",
        "Case 2:\n",
        "\n",
        "s1 = \"Ynf\"\n",
        "s2 = \"PYnative"
      ],
      "metadata": {
        "id": "7RkWPrViU8rP"
      }
    },
    {
      "cell_type": "code",
      "source": [
        "pass\n",
        "s1 = \"Yn\"\n",
        "s2 = \"PYnative\"\n",
        "\n",
        "s = s1 + s2\n",
        "print(s)"
      ],
      "metadata": {
        "id": "Muo3VlUUVOWA",
        "colab": {
          "base_uri": "https://localhost:8080/"
        },
        "outputId": "49412b9f-7936-4376-b0a8-6091117fa10e"
      },
      "execution_count": null,
      "outputs": [
        {
          "output_type": "stream",
          "name": "stdout",
          "text": [
            "YnPYnative\n"
          ]
        }
      ]
    },
    {
      "cell_type": "code",
      "source": [
        "s1 = \"Ynf\"\n",
        "s2 = \"PYnative\"\n",
        "\n",
        "s = s1 + s2\n",
        "print(s)"
      ],
      "metadata": {
        "colab": {
          "base_uri": "https://localhost:8080/"
        },
        "id": "wc7a0UZFs0vX",
        "outputId": "18f1c9a6-2752-40ac-b72f-e10b258402b5"
      },
      "execution_count": null,
      "outputs": [
        {
          "output_type": "stream",
          "name": "stdout",
          "text": [
            "YnfPYnative\n"
          ]
        }
      ]
    },
    {
      "cell_type": "markdown",
      "source": [
        "**Exercise 8: Find all occurrences of a substring in a given string by ignoring the case**\n",
        "\n",
        "Write a program to find all occurrences of “USA” in a given string ignoring the case.\n",
        "\n",
        "Given:\n",
        "\n",
        "str1 = \"Welcome to USA. usa awesome, isn't it?\""
      ],
      "metadata": {
        "id": "yJGL6oXEWzVv"
      }
    },
    {
      "cell_type": "code",
      "source": [
        "str1 = \"Welcome to USA. usa awesome, isn't it?\"\n",
        "\n",
        "substring = \"USA\"\n",
        "\n",
        "count = str1.upper().count(substring.upper())\n",
        "\n",
        "print(count)"
      ],
      "metadata": {
        "id": "tNC8c_jFXIB8",
        "colab": {
          "base_uri": "https://localhost:8080/"
        },
        "outputId": "290f6295-19c7-4a2c-8142-0d24b7c9a6bb"
      },
      "execution_count": null,
      "outputs": [
        {
          "output_type": "stream",
          "name": "stdout",
          "text": [
            "2\n"
          ]
        }
      ]
    },
    {
      "cell_type": "code",
      "source": [
        "str1 = \"Welcome to USA. usa awesome, isn't it?\"\n",
        "print(str1.count(\"USA\"))"
      ],
      "metadata": {
        "colab": {
          "base_uri": "https://localhost:8080/"
        },
        "id": "ztmfjBgdCeZU",
        "outputId": "4834396d-1c37-49c7-a694-360b1703389c"
      },
      "execution_count": null,
      "outputs": [
        {
          "output_type": "stream",
          "name": "stdout",
          "text": [
            "1\n"
          ]
        }
      ]
    },
    {
      "cell_type": "markdown",
      "source": [
        "**Exercise 9: Reverse a given string**\n",
        "\n",
        "Given:\n",
        "\n",
        "str1 = PYnative\n",
        "\n",
        "Str 2 = Badin\n",
        "\n",
        "Str 3 = Pakistan"
      ],
      "metadata": {
        "id": "k9mvX4OsYEE-"
      }
    },
    {
      "cell_type": "code",
      "source": [
        "pass\n",
        "str1 = \"PYnative\"\n",
        "str2 = \"Badin\"\n",
        "str3 = \"Pakistan\"\n",
        "\n",
        "\n",
        "print(str1[::-1])\n",
        "print(str2[::-1])\n",
        "print(str3[::-1])\n"
      ],
      "metadata": {
        "id": "JSpV60YCYNaG",
        "colab": {
          "base_uri": "https://localhost:8080/"
        },
        "outputId": "1552d887-1c83-46f5-d505-ee1a848d6d6f"
      },
      "execution_count": null,
      "outputs": [
        {
          "output_type": "stream",
          "name": "stdout",
          "text": [
            "evitanYP\n",
            "nidaB\n",
            "natsikaP\n"
          ]
        }
      ]
    },
    {
      "cell_type": "markdown",
      "source": [
        "**Exercise 10: Find the  position of a given substring**\n",
        "\n",
        "Write a program to find the  position of a substring “Emma” in a given string.\n",
        "\n",
        "Given:\n",
        "\n",
        "str1 = \"Emma is a data scientist who knows Python. "
      ],
      "metadata": {
        "id": "Qxj3gjhiZdMc"
      }
    },
    {
      "cell_type": "code",
      "source": [
        "pass\n",
        "str1 = \"Emma is a data scientist who knows Python.\"\n",
        "print(str1.find(\"Emma\"))\n"
      ],
      "metadata": {
        "id": "XlsFf0j7Zqa7",
        "colab": {
          "base_uri": "https://localhost:8080/"
        },
        "outputId": "1f4b099c-7f6e-4b28-d5aa-50c98d6363d7"
      },
      "execution_count": 5,
      "outputs": [
        {
          "output_type": "stream",
          "name": "stdout",
          "text": [
            "0\n"
          ]
        }
      ]
    },
    {
      "cell_type": "markdown",
      "source": [
        "**Exercise 11: Split a string on hyphens**\n",
        "\n",
        "Write a program to split a given string on hyphens and display each substring.\n",
        "\n",
        "Given:\n",
        "\n",
        "str1 = Emma-is-a-data-scientist"
      ],
      "metadata": {
        "id": "vN3srrpsaLqK"
      }
    },
    {
      "cell_type": "code",
      "source": [
        "str1 = \"Emma-is-a-data-scientist\"\n",
        "print(str1.split('-'))"
      ],
      "metadata": {
        "id": "UMY8k4j9aWef",
        "colab": {
          "base_uri": "https://localhost:8080/"
        },
        "outputId": "8cb543a3-3287-4c0e-ecaf-85d369797b41"
      },
      "execution_count": 8,
      "outputs": [
        {
          "output_type": "stream",
          "name": "stdout",
          "text": [
            "['Emma', 'is', 'a', 'data', 'scientist']\n"
          ]
        }
      ]
    }
  ]
}